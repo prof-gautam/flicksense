{
 "cells": [
  {
   "cell_type": "code",
   "execution_count": 1,
   "metadata": {},
   "outputs": [
    {
     "name": "stdout",
     "output_type": "stream",
     "text": [
      "The word is misspelled. Suggestions: ['another', 'document', 'example']\n"
     ]
    }
   ],
   "source": [
    "from sklearn.feature_extraction.text import TfidfVectorizer\n",
    "from sklearn.metrics.pairwise import cosine_similarity\n",
    "from nltk.corpus import words\n",
    "\n",
    "# Sample corpus\n",
    "corpus = [\n",
    "    \"This is a sample document.\",\n",
    "    \"Another example document.\",\n",
    "    \"Yet another document.\"\n",
    "]\n",
    "\n",
    "# Initialize TfidfVectorizer\n",
    "tfidf_vectorizer = TfidfVectorizer()\n",
    "\n",
    "# Fit and transform the corpus\n",
    "tfidf_matrix = tfidf_vectorizer.fit_transform(corpus)\n",
    "\n",
    "# Get the vocabulary and idf scores\n",
    "vocabulary = tfidf_vectorizer.get_feature_names_out()\n",
    "\n",
    "# Create a dictionary mapping words to their idf scores\n",
    "idf_scores = dict(zip(vocabulary, tfidf_vectorizer.idf_))\n",
    "\n",
    "# Function to suggest words based on similarity to misspelled word\n",
    "def suggest_words(misspelled_word, vocabulary, idf_scores, top_n=3):\n",
    "    similar_words = []\n",
    "    if misspelled_word in vocabulary:\n",
    "        return [misspelled_word]\n",
    "\n",
    "    # Calculate cosine similarity between the misspelled word and all words in the vocabulary\n",
    "    for word in vocabulary:\n",
    "        similarity = cosine_similarity(tfidf_vectorizer.transform([misspelled_word]), tfidf_vectorizer.transform([word]))[0][0]\n",
    "        similar_words.append((word, similarity))\n",
    "\n",
    "    # Sort similar words based on cosine similarity\n",
    "    similar_words.sort(key=lambda x: x[1], reverse=True)\n",
    "\n",
    "    # Return top n similar words\n",
    "    return [word[0] for word in similar_words[:top_n]]\n",
    "\n",
    "# Function to check if a word is spelled correctly\n",
    "def spell_check(word, vocabulary):\n",
    "    return word in vocabulary\n",
    "\n",
    "# Example usage\n",
    "misspelled_word = \"documnet\"\n",
    "if spell_check(misspelled_word, vocabulary):\n",
    "    print(\"The word is spelled correctly.\")\n",
    "else:\n",
    "    suggestions = suggest_words(misspelled_word, vocabulary, idf_scores)\n",
    "    print(\"The word is misspelled. Suggestions:\", suggestions)\n"
   ]
  }
 ],
 "metadata": {
  "kernelspec": {
   "display_name": "Python 3",
   "language": "python",
   "name": "python3"
  },
  "language_info": {
   "codemirror_mode": {
    "name": "ipython",
    "version": 3
   },
   "file_extension": ".py",
   "mimetype": "text/x-python",
   "name": "python",
   "nbconvert_exporter": "python",
   "pygments_lexer": "ipython3",
   "version": "3.10.6"
  }
 },
 "nbformat": 4,
 "nbformat_minor": 2
}
